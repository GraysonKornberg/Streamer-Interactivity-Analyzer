{
 "cells": [
  {
   "cell_type": "code",
   "execution_count": 1,
   "metadata": {},
   "outputs": [],
   "source": [
    "import os\n",
    "import subprocess\n",
    "import shlex\n",
    "import pandas as pd\n",
    "import numpy as np\n",
    "import json\n",
    "import os"
   ]
  },
  {
   "cell_type": "code",
   "execution_count": null,
   "metadata": {},
   "outputs": [],
   "source": [
    "twitch_downloader_directory = r\"C:\\Users\\trick\\Desktop\\twitchdownloader\""
   ]
  },
  {
   "cell_type": "code",
   "execution_count": 8,
   "metadata": {},
   "outputs": [],
   "source": [
    "Symfuhny = {'url':'https://www.twitch.tv/videos/1797071998', 'name':'Symfuhny', 'beginning':'900', 'end':None, 'avg_viewers':5024, 'out_width':365, 'out_height':250, 'x':1298, 'y':241}\n",
    "shroud = {'url':'https://www.twitch.tv/videos/1792790259', 'name':'shroud', 'beginning':'900', 'end':None, 'avg_viewers':11308, 'out_width':418, 'out_height':230, 'x':9, 'y':347}\n",
    "cyr = {'url':'https://www.twitch.tv/videos/1797143072', 'name':'cyr', 'beginning':'900', 'end':None, 'avg_viewers':3437, 'out_width':396, 'out_height':367, 'x':1523, 'y':217}\n",
    "NICKMERCS = {'url':'https://www.twitch.tv/videos/1798038394', 'name':'NICKMERCS', 'beginning':'3600', 'end':None, 'avg_viewers':14519, 'out_width':417, 'out_height':228, 'x':19, 'y':444}\n",
    "Foolish_Gamers = {'url':'https://www.twitch.tv/videos/1798166416', 'name':'Foolish_Gamers', 'beginning':'900', 'end':None, 'avg_viewers':7856\n",
    ", 'out_width':488, 'out_height':359, 'x':0, 'y':0}\n",
    "Philza = {'url':'https://www.twitch.tv/videos/1798022118', 'name':'Philza', 'beginning':'900', 'end':None, 'avg_viewers':8163, 'out_width':554, 'out_height':330, 'x':0, 'y':398}\n",
    "Xaryu = {'url':'https://www.twitch.tv/videos/1797143876', 'name':'Xaryu', 'beginning':'5400', 'end':None, 'avg_viewers':3473, 'out_width':518, 'out_height':373, 'x':11, 'y':561}\n",
    "Ray = {'url':'https://www.twitch.tv/videos/1797237790', 'name':'Ray', 'beginning':'7200', 'end':None, 'avg_viewers':2134, 'out_width':433, 'out_height':203, 'x':12, 'y':71}\n",
    "itsRyanHiga = {'url':'https://www.twitch.tv/videos/1799649695', 'name':'itsRyanHiga', 'beginning':'3600', 'end':None, 'avg_viewers':1656, 'out_width':357, 'out_height':259, 'x':0, 'y':92}\n",
    "buckefps = {'url':'https://www.twitch.tv/videos/1797227298', 'name':'buckefps', 'beginning':'900', 'end':None, 'avg_viewers':2087, 'out_width':399, 'out_height':298, 'x':0, 'y':312}\n",
    "Kastaclysm = {'url':'https://www.twitch.tv/videos/1798172429', 'name':'Kastaclysm', 'beginning':'3600', 'end':None, 'avg_viewers':1057, 'out_width':394, 'out_height':343, 'x':1525, 'y':0}\n",
    "\n",
    "streamers = [Symfuhny, shroud, cyr, NICKMERCS, Foolish_Gamers, Philza, Xaryu, Ray, itsRyanHiga, buckefps, Kastaclysm]"
   ]
  },
  {
   "cell_type": "code",
   "execution_count": null,
   "metadata": {},
   "outputs": [],
   "source": [
    "# DIRECTORTY SETUP\n",
    "os.chdir(twitch_downloader_directory)"
   ]
  },
  {
   "cell_type": "code",
   "execution_count": 10,
   "metadata": {},
   "outputs": [],
   "source": [
    "def FetchData(streamer):\n",
    "    # DOWNLOAD CHAT LOGS\n",
    "    command_line = f\"TwitchDownloaderCLI.exe chatdownload --id {streamer['url']} -o {streamer['name']}-chat.json -b {streamer['beginning']}\"\n",
    "    if streamer['end'] is not None:\n",
    "        command_line += f\" -e {streamer['end']}\"\n",
    "    args = shlex.split(command_line)\n",
    "    p = subprocess.Popen(args)\n",
    "    p.wait()\n",
    "\n",
    "    # GET DATA FROM CHAT LOGS\n",
    "    data_json = json.load(open(f\".../../../twitchdownloader/{streamer['name']}-chat.json\", encoding=\"utf8\"))\n",
    "    streamer_name = data_json[\"streamer\"][\"name\"]\n",
    "    streamer_id = data_json[\"streamer\"][\"id\"]\n",
    "    end = (data_json[\"video\"][\"end\"])\n",
    "    end = end - ((end - int(streamer['beginning'])) % 15)\n",
    "    comments = pd.DataFrame(data_json[\"comments\"])\n",
    "    data = comments[\"content_offset_seconds\"].to_numpy()\n",
    "    data = data[data < end]\n",
    "    del comments\n",
    "\n",
    "    # CALCULATE INTERACTIVITY\n",
    "    interactivity = np.zeros(int((end - int(beginning)) / 15))\n",
    "    for i in data:\n",
    "        interactivity[(i - int(beginning)) // 15] += 1\n",
    "    selected_indices = np.rint(np.arange(0,60) ** np.emath.logn(59,interactivity.shape[0]/2)).astype(int)\n",
    "    interactivity_sorted = np.argsort(interactivity)[::-1][selected_indices]\n",
    "    interactivity = interactivity / streamer['avg_viewers']\n",
    "\n",
    "    # CREATE DATAFRAME, DOWNLOAD VIDEOS, CROP VIDEOS, AND EXTRACT AUDIO\n",
    "    df = pd.DataFrame(columns=[\"streamer_name\",\"streamer_id\",\"start_seconds\", \"interactivity\", \"audio_path\",\"video_path\"])\n",
    "    for i,j in enumerate(interactivity_sorted):\n",
    "        command_line = f\"TwitchDownloaderCLI.exe videodownload --id {streamer['url']} -o {streamer_name}-{i}.mp4 -b {j * 15 + int(streamer['beginning']) - 3} -e {(j+1) * 15 + int(streamer['beginning']) - 3}\"\n",
    "        args = shlex.split(command_line)\n",
    "        p = subprocess.Popen(args)\n",
    "        p.wait()\n",
    "        command_line = f\"ffmpeg -i {streamer_name}-{i}.mp4 -filter:v 'crop={streamer['out_width']}:{streamer['out_height']}:{streamer['x']}:{streamer['y']}' {streamer_name}-{i}-crop.mp4\"\n",
    "        args = shlex.split(command_line)\n",
    "        p = subprocess.Popen(args)\n",
    "        p.wait()\n",
    "        command_line = f\"ffmpeg -i {streamer_name}-{i}.mp4 {streamer_name}-{i}.mp3\"\n",
    "        args = shlex.split(command_line)\n",
    "        p = subprocess.Popen(args)\n",
    "        df = pd.concat([df,pd.DataFrame([{\"streamer_name\": streamer_name, \"streamer_id\": streamer_id, \"start_seconds\": j*15 + int(streamer['beginning']) - 3, \"interactivity\": interactivity[j],\"audio_path\":f\"{streamer_name}-{i}.mp3\",\"video_path\":f\"{streamer_name}-{i}.mp4\"}])])\n",
    "    df = df.reset_index().drop(columns=[\"index\"])\n",
    "    df.to_csv(f\"{streamer_name}.csv\")"
   ]
  },
  {
   "cell_type": "code",
   "execution_count": 11,
   "metadata": {},
   "outputs": [],
   "source": [
    "# MOVE FILES TO OTHER FOLDER, MANUALLY DELETE VIDEOS THAT HAVE WRONG FACE CROPPING, THEN RUN THIS\n",
    "def RenameFiles(streamer_name):\n",
    "    os.chdir(f\"C:\\\\Users\\\\trick\\\\Desktop\\\\twitchdownloader\\\\{streamer_name}\")\n",
    "    for i in range(60):\n",
    "        if os.path.isfile(f\"{streamer_name}-{i}-crop.mp4\"):\n",
    "            os.rename(f\"{streamer_name}-{i}-crop.mp4\", f\"{streamer_name}-{i}.mp4\")"
   ]
  },
  {
   "cell_type": "code",
   "execution_count": null,
   "metadata": {},
   "outputs": [],
   "source": [
    "for streamer in streamers:\n",
    "    FetchData(streamer)"
   ]
  },
  {
   "cell_type": "code",
   "execution_count": null,
   "metadata": {},
   "outputs": [],
   "source": [
    "for streamer in streamers:\n",
    "    RenameFiles(streamer['name'])"
   ]
  },
  {
   "cell_type": "code",
   "execution_count": 31,
   "metadata": {},
   "outputs": [],
   "source": [
    "# Concatenate data\n",
    "df = pd.DataFrame(columns=[\"streamer_name\",\"streamer_id\",\"start_seconds\", \"interactivity\", \"audio_path\",\"video_path\"])\n",
    "for streamer in streamers:\n",
    "    temp_df = pd.read_csv(f\"{streamer['name']}/{streamer['name']}.csv\", index_col=0)\n",
    "    temp_df['audio_path'] = temp_df['audio_path'].apply(lambda x: f\"data/{streamer['name']}/{x}\")\n",
    "    temp_df['video_path'] = temp_df['video_path'].apply(lambda x: f\"data/{streamer['name']}/{x}\")\n",
    "    df = pd.concat([df,temp_df])\n",
    "df = df.reset_index().drop(columns=[\"index\"])"
   ]
  },
  {
   "cell_type": "code",
   "execution_count": 26,
   "metadata": {},
   "outputs": [],
   "source": [
    "# normalize interactivity\n",
    "df['interactivity'] = df['interactivity'] / df['interactivity'].max()"
   ]
  },
  {
   "cell_type": "code",
   "execution_count": 30,
   "metadata": {},
   "outputs": [],
   "source": [
    "df.to_csv('data.csv')"
   ]
  }
 ],
 "metadata": {
  "kernelspec": {
   "display_name": "Python 3 (ipykernel)",
   "language": "python",
   "name": "python3"
  },
  "language_info": {
   "codemirror_mode": {
    "name": "ipython",
    "version": 3
   },
   "file_extension": ".py",
   "mimetype": "text/x-python",
   "name": "python",
   "nbconvert_exporter": "python",
   "pygments_lexer": "ipython3",
   "version": "3.9.12"
  }
 },
 "nbformat": 4,
 "nbformat_minor": 2
}
