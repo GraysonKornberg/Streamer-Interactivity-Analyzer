{
 "cells": [
  {
   "cell_type": "code",
   "execution_count": 5,
   "metadata": {},
   "outputs": [],
   "source": [
    "import os\n",
    "import speech_recognition as sr\n",
    "from pydub import AudioSegment\n",
    "from pydub.exceptions import CouldntDecodeError\n",
    "import pandas as pd"
   ]
  },
  {
   "cell_type": "code",
   "execution_count": null,
   "metadata": {},
   "outputs": [],
   "source": [
    "# Set the directory containing the audio files\n",
    "directory = '/Users/meganshah/Desktop/Streamer-Interactivity-Analyzer/'\n",
    "\n",
    "# List of directories to iterate over\n",
    "dir_list = ['Xaryu', 'cyr', 'shroud', 'NICKMERCS', 'Kastaclysm', 'Symfuhny', 'Foolish_Gamers', 'Philza', 'itsRyanHiga', 'buckefps', 'Ray']\n",
    "\n",
    "for dir_name in dir_list:\n",
    "    dir_path = os.path.join(directory, dir_name)\n",
    "    if os.path.isdir(dir_path):\n",
    "        for filename in os.listdir(dir_path):\n",
    "            if filename.endswith('.mp3'):\n",
    "                file_path = os.path.join(dir_path, filename)\n",
    "                wav_path = os.path.splitext(file_path)[0] + '.wav'\n",
    "\n",
    "                # Convert mp3 to wav\n",
    "                try:\n",
    "                    sound = AudioSegment.from_file(file_path, format='mp3')\n",
    "                    sound.export(wav_path, format='wav')\n",
    "                except CouldntDecodeError:\n",
    "                    print(f\"Error: {file_path} could not be converted to wav format.\")\n",
    "                    continue\n",
    "\n",
    "                # Transcribe the audio\n",
    "                r = sr.Recognizer()\n",
    "                with sr.AudioFile(wav_path) as source:\n",
    "                    audio = r.record(source)\n",
    "\n",
    "                try:\n",
    "                    transcript = r.recognize_google(audio)\n",
    "                except sr.UnknownValueError:\n",
    "                    print(f\"Error: Could not transcribe audio from {file_path}.\")\n",
    "                    continue\n",
    "\n",
    "                # Write the transcript to a file\n",
    "                transcript_dir = os.path.join(directory, 'transcripts', dir_name)\n",
    "                os.makedirs(transcript_dir, exist_ok=True)\n",
    "                transcript_filename = os.path.splitext(filename)[0] + '.txt'\n",
    "                transcript_path = os.path.join(transcript_dir, transcript_filename)\n",
    "                with open(transcript_path, 'w') as f:\n",
    "                    f.write(transcript)"
   ]
  },
  {
   "cell_type": "code",
   "execution_count": 56,
   "metadata": {},
   "outputs": [],
   "source": [
    "directory = r\"D:\\Desktop\\mml-final\\Streamer-Interactivity-Analyzer\"\n",
    "\n",
    "df = pd.read_csv(f\"{directory}\\data\\data.csv\", index_col=0)\n",
    "paths = df['audio_path'].to_numpy()\n",
    "for i,path in enumerate(paths):\n",
    "    #remove data/ from path\n",
    "    temp = path[5:]\n",
    "    #remove .mp3 from path\n",
    "    temp = temp[:-4]\n",
    "    #add .txt to path\n",
    "    temp = temp + \".txt\"\n",
    "    #add transcripts/ to path\n",
    "    temp = \"transcripts/\" + temp\n",
    "    #replace / with \\\n",
    "    temp = temp.replace(\"/\", \"\\\\\")\n",
    "    paths[i] = temp\n",
    "    \n",
    "not_found = []\n",
    "for path in paths:\n",
    "    dir_path = os.path.join(directory, path)\n",
    "    if not os.path.isfile(dir_path):\n",
    "        not_found.append(dir_path)"
   ]
  },
  {
   "cell_type": "code",
   "execution_count": 57,
   "metadata": {},
   "outputs": [],
   "source": [
    "for file in not_found:\n",
    "    with open(file, 'w') as fp:\n",
    "        pass"
   ]
  }
 ],
 "metadata": {
  "kernelspec": {
   "display_name": ".venv",
   "language": "python",
   "name": "python3"
  },
  "language_info": {
   "codemirror_mode": {
    "name": "ipython",
    "version": 3
   },
   "file_extension": ".py",
   "mimetype": "text/x-python",
   "name": "python",
   "nbconvert_exporter": "python",
   "pygments_lexer": "ipython3",
   "version": "3.8.0"
  },
  "orig_nbformat": 4
 },
 "nbformat": 4,
 "nbformat_minor": 2
}
