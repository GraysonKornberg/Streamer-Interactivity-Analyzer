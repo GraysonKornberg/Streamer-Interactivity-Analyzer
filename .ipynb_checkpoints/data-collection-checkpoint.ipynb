{
 "cells": [
  {
   "cell_type": "code",
   "execution_count": 7,
   "metadata": {},
   "outputs": [],
   "source": [
    "import os\n",
    "import subprocess\n",
    "import shlex\n",
    "import pandas as pd\n",
    "import numpy as np\n",
    "import json"
   ]
  },
  {
   "cell_type": "code",
   "execution_count": 8,
   "metadata": {},
   "outputs": [],
   "source": [
    "Symfuhny = {'url':'https://www.twitch.tv/videos/1797071998', 'name':'Symfuhny', 'beginning':'900', 'end':None, 'avg_viewers':5024, 'out_width':365, 'out_height':250, 'x':1298, 'y':241}\n",
    "shroud = {'url':'https://www.twitch.tv/videos/1792790259', 'name':'shroud', 'beginning':'900', 'end':None, 'avg_viewers':11308, 'out_width':418, 'out_height':230, 'x':9, 'y':347}\n",
    "cyr = {'url':'https://www.twitch.tv/videos/1797143072', 'name':'cyr', 'beginning':'900', 'end':None, 'avg_viewers':3437, 'out_width':396, 'out_height':367, 'x':1523, 'y':217}\n",
    "NICKMERCS = {'url':'https://www.twitch.tv/videos/1798038394', 'name':'NICKMERCS', 'beginning':'3600', 'end':None, 'avg_viewers':14519, 'out_width':417, 'out_height':228, 'x':19, 'y':444}\n",
    "Foolish_Gamers = {'url':'https://www.twitch.tv/videos/1798166416', 'name':'Foolish_Gamers', 'beginning':'900', 'end':None, 'avg_viewers':7856\n",
    ", 'out_width':488, 'out_height':359, 'x':0, 'y':0}\n",
    "Philza = {'url':'https://www.twitch.tv/videos/1798022118', 'name':'Philza', 'beginning':'900', 'end':None, 'avg_viewers':8163, 'out_width':554, 'out_height':330, 'x':0, 'y':398}\n",
    "Xaryu = {'url':'https://www.twitch.tv/videos/1797143876', 'name':'Xaryu', 'beginning':'5400', 'end':None, 'avg_viewers':3473, 'out_width':518, 'out_height':373, 'x':11, 'y':561}\n",
    "Ray = {'url':'https://www.twitch.tv/videos/1797237790', 'name':'Ray', 'beginning':'7200', 'end':None, 'avg_viewers':2134, 'out_width':433, 'out_height':203, 'x':12, 'y':71}\n",
    "itsRyanHiga = {'url':'https://www.twitch.tv/videos/1799649695', 'name':'itsRyanHiga', 'beginning':'3600', 'end':None, 'avg_viewers':1656, 'out_width':357, 'out_height':259, 'x':0, 'y':92}\n",
    "buckefps = {'url':'https://www.twitch.tv/videos/1797227298', 'name':'buckefps', 'beginning':'900', 'end':None, 'avg_viewers':2087, 'out_width':399, 'out_height':298, 'x':0, 'y':312}\n",
    "Kastaclysm = {'url':'https://www.twitch.tv/videos/1798172429', 'name':'Kastaclysm', 'beginning':'3600', 'end':None, 'avg_viewers':1057, 'out_width':394, 'out_height':343, 'x':1525, 'y':0}\n",
    "\n",
    "streamers = [Symfuhny, shroud, cyr, NICKMERCS, Foolish_Gamers, Philza, Xaryu, Ray, itsRyanHiga, buckefps, Kastaclysm]"
   ]
  },
  {
   "cell_type": "code",
   "execution_count": 9,
   "metadata": {},
   "outputs": [
    {
     "ename": "FileNotFoundError",
     "evalue": "[Errno 2] No such file or directory: 'C:\\\\Users\\\\trick\\\\Desktop\\\\twitchdownloader'",
     "output_type": "error",
     "traceback": [
      "\u001b[0;31m---------------------------------------------------------------------------\u001b[0m",
      "\u001b[0;31mFileNotFoundError\u001b[0m                         Traceback (most recent call last)",
      "Input \u001b[0;32mIn [9]\u001b[0m, in \u001b[0;36m<cell line: 2>\u001b[0;34m()\u001b[0m\n\u001b[1;32m      1\u001b[0m \u001b[38;5;66;03m# DIRECTORTY SETUP\u001b[39;00m\n\u001b[0;32m----> 2\u001b[0m \u001b[43mos\u001b[49m\u001b[38;5;241;43m.\u001b[39;49m\u001b[43mchdir\u001b[49m\u001b[43m(\u001b[49m\u001b[38;5;124;43mr\u001b[39;49m\u001b[38;5;124;43m\"\u001b[39;49m\u001b[38;5;124;43mC:\u001b[39;49m\u001b[38;5;124;43m\\\u001b[39;49m\u001b[38;5;124;43mUsers\u001b[39;49m\u001b[38;5;124;43m\\\u001b[39;49m\u001b[38;5;124;43mtrick\u001b[39;49m\u001b[38;5;124;43m\\\u001b[39;49m\u001b[38;5;124;43mDesktop\u001b[39;49m\u001b[38;5;124;43m\\\u001b[39;49m\u001b[38;5;124;43mtwitchdownloader\u001b[39;49m\u001b[38;5;124;43m\"\u001b[39;49m\u001b[43m)\u001b[49m\n",
      "\u001b[0;31mFileNotFoundError\u001b[0m: [Errno 2] No such file or directory: 'C:\\\\Users\\\\trick\\\\Desktop\\\\twitchdownloader'"
     ]
    }
   ],
   "source": [
    "# DIRECTORTY SETUP\n",
    "os.chdir(r\"C:\\Users\\trick\\Desktop\\twitchdownloader\")"
   ]
  },
  {
   "cell_type": "code",
   "execution_count": 10,
   "metadata": {},
   "outputs": [],
   "source": [
    "def FetchData(streamer):\n",
    "    # DOWNLOAD CHAT LOGS\n",
    "    command_line = f\"TwitchDownloaderCLI.exe chatdownload --id {streamer['url']} -o {streamer['name']}-chat.json -b {streamer['beginning']}\"\n",
    "    if streamer['end'] is not None:\n",
    "        command_line += f\" -e {streamer['end']}\"\n",
    "    args = shlex.split(command_line)\n",
    "    p = subprocess.Popen(args)\n",
    "    p.wait()\n",
    "\n",
    "    # GET DATA FROM CHAT LOGS\n",
    "    data_json = json.load(open(f\".../../../twitchdownloader/{streamer['name']}-chat.json\", encoding=\"utf8\"))\n",
    "    streamer_name = data_json[\"streamer\"][\"name\"]\n",
    "    streamer_id = data_json[\"streamer\"][\"id\"]\n",
    "    end = (data_json[\"video\"][\"end\"])\n",
    "    end = end - ((end - int(streamer['beginning'])) % 15)\n",
    "    comments = pd.DataFrame(data_json[\"comments\"])\n",
    "    data = comments[\"content_offset_seconds\"].to_numpy()\n",
    "    data = data[data < end]\n",
    "    del comments\n",
    "\n",
    "    # CALCULATE INTERACTIVITY\n",
    "    interactivity = np.zeros(int((end - int(beginning)) / 15))\n",
    "    for i in data:\n",
    "        interactivity[(i - int(beginning)) // 15] += 1\n",
    "    selected_indices = np.rint(np.arange(0,60) ** np.emath.logn(59,interactivity.shape[0]/2)).astype(int)\n",
    "    interactivity_sorted = np.argsort(interactivity)[::-1][selected_indices]\n",
    "    interactivity = interactivity / streamer['avg_viewers']\n",
    "\n",
    "    # CREATE DATAFRAME, DOWNLOAD VIDEOS, CROP VIDEOS, AND EXTRACT AUDIO\n",
    "    df = pd.DataFrame(columns=[\"streamer_name\",\"streamer_id\",\"start_seconds\", \"interactivity\", \"audio_path\",\"video_path\"])\n",
    "    for i,j in enumerate(interactivity_sorted):\n",
    "        command_line = f\"TwitchDownloaderCLI.exe videodownload --id {streamer['url']} -o {streamer_name}-{i}.mp4 -b {j * 15 + int(streamer['beginning']) - 3} -e {(j+1) * 15 + int(streamer['beginning']) - 3}\"\n",
    "        args = shlex.split(command_line)\n",
    "        p = subprocess.Popen(args)\n",
    "        p.wait()\n",
    "        command_line = f\"ffmpeg -i {streamer_name}-{i}.mp4 -filter:v 'crop={streamer['out_width']}:{streamer['out_height']}:{streamer['x']}:{streamer['y']}' {streamer_name}-{i}-crop.mp4\"\n",
    "        args = shlex.split(command_line)\n",
    "        p = subprocess.Popen(args)\n",
    "        p.wait()\n",
    "        command_line = f\"ffmpeg -i {streamer_name}-{i}.mp4 {streamer_name}-{i}.mp3\"\n",
    "        args = shlex.split(command_line)\n",
    "        p = subprocess.Popen(args)\n",
    "        df = pd.concat([df,pd.DataFrame([{\"streamer_name\": streamer_name, \"streamer_id\": streamer_id, \"start_seconds\": j*15 + int(streamer['beginning']) - 3, \"interactivity\": interactivity[j],\"audio_path\":f\"{streamer_name}-{i}.mp3\",\"video_path\":f\"{streamer_name}-{i}.mp4\"}])])\n",
    "    df = df.reset_index().drop(columns=[\"index\"])\n",
    "    df.to_csv(f\"{streamer_name}.csv\")"
   ]
  },
  {
   "cell_type": "code",
   "execution_count": 11,
   "metadata": {},
   "outputs": [],
   "source": [
    "# MOVE FILES TO OTHER FOLDER, MANUALLY DELETE VIDEOS THAT HAVE WRONG FACE CROPPING, THEN RUN THIS\n",
    "def RenameFiles(streamer_name):\n",
    "    os.chdir(f\"C:\\\\Users\\\\trick\\\\Desktop\\\\twitchdownloader\\\\{streamer_name}\")\n",
    "    for i in range(60):\n",
    "        if os.path.isfile(f\"{streamer_name}-{i}-crop.mp4\"):\n",
    "            os.rename(f\"{streamer_name}-{i}-crop.mp4\", f\"{streamer_name}-{i}.mp4\")"
   ]
  },
  {
   "cell_type": "code",
   "execution_count": 12,
   "metadata": {},
   "outputs": [
    {
     "ename": "FileNotFoundError",
     "evalue": "[Errno 2] No such file or directory: 'TwitchDownloaderCLI.exe'",
     "output_type": "error",
     "traceback": [
      "\u001b[0;31m---------------------------------------------------------------------------\u001b[0m",
      "\u001b[0;31mFileNotFoundError\u001b[0m                         Traceback (most recent call last)",
      "Input \u001b[0;32mIn [12]\u001b[0m, in \u001b[0;36m<cell line: 1>\u001b[0;34m()\u001b[0m\n\u001b[1;32m      1\u001b[0m \u001b[38;5;28;01mfor\u001b[39;00m streamer \u001b[38;5;129;01min\u001b[39;00m streamers:\n\u001b[0;32m----> 2\u001b[0m     \u001b[43mFetchData\u001b[49m\u001b[43m(\u001b[49m\u001b[43mstreamer\u001b[49m\u001b[43m)\u001b[49m\n",
      "Input \u001b[0;32mIn [10]\u001b[0m, in \u001b[0;36mFetchData\u001b[0;34m(streamer)\u001b[0m\n\u001b[1;32m      5\u001b[0m     command_line \u001b[38;5;241m+\u001b[39m\u001b[38;5;241m=\u001b[39m \u001b[38;5;124mf\u001b[39m\u001b[38;5;124m\"\u001b[39m\u001b[38;5;124m -e \u001b[39m\u001b[38;5;132;01m{\u001b[39;00mstreamer[\u001b[38;5;124m'\u001b[39m\u001b[38;5;124mend\u001b[39m\u001b[38;5;124m'\u001b[39m]\u001b[38;5;132;01m}\u001b[39;00m\u001b[38;5;124m\"\u001b[39m\n\u001b[1;32m      6\u001b[0m args \u001b[38;5;241m=\u001b[39m shlex\u001b[38;5;241m.\u001b[39msplit(command_line)\n\u001b[0;32m----> 7\u001b[0m p \u001b[38;5;241m=\u001b[39m \u001b[43msubprocess\u001b[49m\u001b[38;5;241;43m.\u001b[39;49m\u001b[43mPopen\u001b[49m\u001b[43m(\u001b[49m\u001b[43margs\u001b[49m\u001b[43m)\u001b[49m\n\u001b[1;32m      8\u001b[0m p\u001b[38;5;241m.\u001b[39mwait()\n\u001b[1;32m     10\u001b[0m \u001b[38;5;66;03m# GET DATA FROM CHAT LOGS\u001b[39;00m\n",
      "File \u001b[0;32m~/opt/anaconda3/lib/python3.9/subprocess.py:951\u001b[0m, in \u001b[0;36mPopen.__init__\u001b[0;34m(self, args, bufsize, executable, stdin, stdout, stderr, preexec_fn, close_fds, shell, cwd, env, universal_newlines, startupinfo, creationflags, restore_signals, start_new_session, pass_fds, user, group, extra_groups, encoding, errors, text, umask)\u001b[0m\n\u001b[1;32m    947\u001b[0m         \u001b[38;5;28;01mif\u001b[39;00m \u001b[38;5;28mself\u001b[39m\u001b[38;5;241m.\u001b[39mtext_mode:\n\u001b[1;32m    948\u001b[0m             \u001b[38;5;28mself\u001b[39m\u001b[38;5;241m.\u001b[39mstderr \u001b[38;5;241m=\u001b[39m io\u001b[38;5;241m.\u001b[39mTextIOWrapper(\u001b[38;5;28mself\u001b[39m\u001b[38;5;241m.\u001b[39mstderr,\n\u001b[1;32m    949\u001b[0m                     encoding\u001b[38;5;241m=\u001b[39mencoding, errors\u001b[38;5;241m=\u001b[39merrors)\n\u001b[0;32m--> 951\u001b[0m     \u001b[38;5;28;43mself\u001b[39;49m\u001b[38;5;241;43m.\u001b[39;49m\u001b[43m_execute_child\u001b[49m\u001b[43m(\u001b[49m\u001b[43margs\u001b[49m\u001b[43m,\u001b[49m\u001b[43m \u001b[49m\u001b[43mexecutable\u001b[49m\u001b[43m,\u001b[49m\u001b[43m \u001b[49m\u001b[43mpreexec_fn\u001b[49m\u001b[43m,\u001b[49m\u001b[43m \u001b[49m\u001b[43mclose_fds\u001b[49m\u001b[43m,\u001b[49m\n\u001b[1;32m    952\u001b[0m \u001b[43m                        \u001b[49m\u001b[43mpass_fds\u001b[49m\u001b[43m,\u001b[49m\u001b[43m \u001b[49m\u001b[43mcwd\u001b[49m\u001b[43m,\u001b[49m\u001b[43m \u001b[49m\u001b[43menv\u001b[49m\u001b[43m,\u001b[49m\n\u001b[1;32m    953\u001b[0m \u001b[43m                        \u001b[49m\u001b[43mstartupinfo\u001b[49m\u001b[43m,\u001b[49m\u001b[43m \u001b[49m\u001b[43mcreationflags\u001b[49m\u001b[43m,\u001b[49m\u001b[43m \u001b[49m\u001b[43mshell\u001b[49m\u001b[43m,\u001b[49m\n\u001b[1;32m    954\u001b[0m \u001b[43m                        \u001b[49m\u001b[43mp2cread\u001b[49m\u001b[43m,\u001b[49m\u001b[43m \u001b[49m\u001b[43mp2cwrite\u001b[49m\u001b[43m,\u001b[49m\n\u001b[1;32m    955\u001b[0m \u001b[43m                        \u001b[49m\u001b[43mc2pread\u001b[49m\u001b[43m,\u001b[49m\u001b[43m \u001b[49m\u001b[43mc2pwrite\u001b[49m\u001b[43m,\u001b[49m\n\u001b[1;32m    956\u001b[0m \u001b[43m                        \u001b[49m\u001b[43merrread\u001b[49m\u001b[43m,\u001b[49m\u001b[43m \u001b[49m\u001b[43merrwrite\u001b[49m\u001b[43m,\u001b[49m\n\u001b[1;32m    957\u001b[0m \u001b[43m                        \u001b[49m\u001b[43mrestore_signals\u001b[49m\u001b[43m,\u001b[49m\n\u001b[1;32m    958\u001b[0m \u001b[43m                        \u001b[49m\u001b[43mgid\u001b[49m\u001b[43m,\u001b[49m\u001b[43m \u001b[49m\u001b[43mgids\u001b[49m\u001b[43m,\u001b[49m\u001b[43m \u001b[49m\u001b[43muid\u001b[49m\u001b[43m,\u001b[49m\u001b[43m \u001b[49m\u001b[43mumask\u001b[49m\u001b[43m,\u001b[49m\n\u001b[1;32m    959\u001b[0m \u001b[43m                        \u001b[49m\u001b[43mstart_new_session\u001b[49m\u001b[43m)\u001b[49m\n\u001b[1;32m    960\u001b[0m \u001b[38;5;28;01mexcept\u001b[39;00m:\n\u001b[1;32m    961\u001b[0m     \u001b[38;5;66;03m# Cleanup if the child failed starting.\u001b[39;00m\n\u001b[1;32m    962\u001b[0m     \u001b[38;5;28;01mfor\u001b[39;00m f \u001b[38;5;129;01min\u001b[39;00m \u001b[38;5;28mfilter\u001b[39m(\u001b[38;5;28;01mNone\u001b[39;00m, (\u001b[38;5;28mself\u001b[39m\u001b[38;5;241m.\u001b[39mstdin, \u001b[38;5;28mself\u001b[39m\u001b[38;5;241m.\u001b[39mstdout, \u001b[38;5;28mself\u001b[39m\u001b[38;5;241m.\u001b[39mstderr)):\n",
      "File \u001b[0;32m~/opt/anaconda3/lib/python3.9/subprocess.py:1821\u001b[0m, in \u001b[0;36mPopen._execute_child\u001b[0;34m(self, args, executable, preexec_fn, close_fds, pass_fds, cwd, env, startupinfo, creationflags, shell, p2cread, p2cwrite, c2pread, c2pwrite, errread, errwrite, restore_signals, gid, gids, uid, umask, start_new_session)\u001b[0m\n\u001b[1;32m   1819\u001b[0m     \u001b[38;5;28;01mif\u001b[39;00m errno_num \u001b[38;5;241m!=\u001b[39m \u001b[38;5;241m0\u001b[39m:\n\u001b[1;32m   1820\u001b[0m         err_msg \u001b[38;5;241m=\u001b[39m os\u001b[38;5;241m.\u001b[39mstrerror(errno_num)\n\u001b[0;32m-> 1821\u001b[0m     \u001b[38;5;28;01mraise\u001b[39;00m child_exception_type(errno_num, err_msg, err_filename)\n\u001b[1;32m   1822\u001b[0m \u001b[38;5;28;01mraise\u001b[39;00m child_exception_type(err_msg)\n",
      "\u001b[0;31mFileNotFoundError\u001b[0m: [Errno 2] No such file or directory: 'TwitchDownloaderCLI.exe'"
     ]
    }
   ],
   "source": [
    "for streamer in streamers:\n",
    "    FetchData(streamer)"
   ]
  },
  {
   "cell_type": "code",
   "execution_count": null,
   "metadata": {},
   "outputs": [],
   "source": [
    "for streamer in streamers:\n",
    "    RenameFiles(streamer['name'])"
   ]
  },
  {
   "cell_type": "code",
   "execution_count": 21,
   "metadata": {},
   "outputs": [],
   "source": []
  },
  {
   "cell_type": "code",
   "execution_count": 31,
   "metadata": {},
   "outputs": [],
   "source": [
    "# Concatenate data\n",
    "df = pd.DataFrame(columns=[\"streamer_name\",\"streamer_id\",\"start_seconds\", \"interactivity\", \"audio_path\",\"video_path\"])\n",
    "for streamer in streamers:\n",
    "    temp_df = pd.read_csv(f\"{streamer['name']}/{streamer['name']}.csv\", index_col=0)\n",
    "    temp_df['audio_path'] = temp_df['audio_path'].apply(lambda x: f\"data/{streamer['name']}/{x}\")\n",
    "    temp_df['video_path'] = temp_df['video_path'].apply(lambda x: f\"data/{streamer['name']}/{x}\")\n",
    "    df = pd.concat([df,temp_df])\n",
    "df = df.reset_index().drop(columns=[\"index\"])"
   ]
  },
  {
   "cell_type": "code",
   "execution_count": 26,
   "metadata": {},
   "outputs": [],
   "source": [
    "# normalize interactivity\n",
    "df['interactivity'] = df['interactivity'] / df['interactivity'].max()"
   ]
  },
  {
   "cell_type": "code",
   "execution_count": 30,
   "metadata": {},
   "outputs": [],
   "source": [
    "df.to_csv('data.csv')"
   ]
  },
  {
   "cell_type": "code",
   "execution_count": 22,
   "metadata": {},
   "outputs": [
    {
     "name": "stdout",
     "output_type": "stream",
     "text": [
      "Requirement already satisfied: SpeechRecognition in /Users/meganshah/opt/anaconda3/lib/python3.9/site-packages (3.10.0)\n",
      "Requirement already satisfied: requests>=2.26.0 in /Users/meganshah/opt/anaconda3/lib/python3.9/site-packages (from SpeechRecognition) (2.27.1)\n",
      "Requirement already satisfied: idna<4,>=2.5 in /Users/meganshah/opt/anaconda3/lib/python3.9/site-packages (from requests>=2.26.0->SpeechRecognition) (3.3)\n",
      "Requirement already satisfied: charset-normalizer~=2.0.0 in /Users/meganshah/opt/anaconda3/lib/python3.9/site-packages (from requests>=2.26.0->SpeechRecognition) (2.0.4)\n",
      "Requirement already satisfied: certifi>=2017.4.17 in /Users/meganshah/opt/anaconda3/lib/python3.9/site-packages (from requests>=2.26.0->SpeechRecognition) (2022.12.7)\n",
      "Requirement already satisfied: urllib3<1.27,>=1.21.1 in /Users/meganshah/opt/anaconda3/lib/python3.9/site-packages (from requests>=2.26.0->SpeechRecognition) (1.26.9)\n",
      "\n",
      "\u001b[1m[\u001b[0m\u001b[34;49mnotice\u001b[0m\u001b[1;39;49m]\u001b[0m\u001b[39;49m A new release of pip is available: \u001b[0m\u001b[31;49m23.0.1\u001b[0m\u001b[39;49m -> \u001b[0m\u001b[32;49m23.1.1\u001b[0m\n",
      "\u001b[1m[\u001b[0m\u001b[34;49mnotice\u001b[0m\u001b[1;39;49m]\u001b[0m\u001b[39;49m To update, run: \u001b[0m\u001b[32;49mpip install --upgrade pip\u001b[0m\n",
      "Collecting PyDub\n",
      "  Downloading pydub-0.25.1-py2.py3-none-any.whl (32 kB)\n",
      "Installing collected packages: PyDub\n",
      "Successfully installed PyDub-0.25.1\n",
      "\n",
      "\u001b[1m[\u001b[0m\u001b[34;49mnotice\u001b[0m\u001b[1;39;49m]\u001b[0m\u001b[39;49m A new release of pip is available: \u001b[0m\u001b[31;49m23.0.1\u001b[0m\u001b[39;49m -> \u001b[0m\u001b[32;49m23.1.1\u001b[0m\n",
      "\u001b[1m[\u001b[0m\u001b[34;49mnotice\u001b[0m\u001b[1;39;49m]\u001b[0m\u001b[39;49m To update, run: \u001b[0m\u001b[32;49mpip install --upgrade pip\u001b[0m\n"
     ]
    }
   ],
   "source": [
    "!pip install SpeechRecognition\n",
    "! pip install PyDub"
   ]
  },
  {
   "cell_type": "code",
   "execution_count": null,
   "metadata": {},
   "outputs": [],
   "source": [
    "import os\n",
    "import speech_recognition as sr\n",
    "from pydub import AudioSegment\n",
    "from pydub.exceptions import CouldntDecodeError\n",
    "from speech_recognition import UnknownValueError\n",
    "\n",
    "directory = '/Users/meganshah/Desktop/Streamer-Interactivity-Analyzer/'\n",
    "\n",
    "# List of directories to iterate over\n",
    "dir_list = ['Xaryu', 'cyr', 'shroud', 'NICKMERCS', 'Kastaclysm', 'Symfuhny', 'Foolish_Gamers', 'Philza', 'itsRyanHiga', 'buckefps', 'Ray']\n",
    "\n",
    "for dir in dir_list:\n",
    "    dir_path = os.path.join(directory, dir)\n",
    "    if os.path.isdir(dir_path):\n",
    "        for filename in os.listdir(dir_path):\n",
    "            if filename.endswith('.mp3'):\n",
    "                file_path = os.path.join(dir_path, filename)\n",
    "                try:\n",
    "                    # Convert mp3 to wav\n",
    "                    sound = AudioSegment.from_file(file_path, format=\"mp3\")\n",
    "                    wav_path = file_path[:-4] + \".wav\"\n",
    "                    sound.export(wav_path, format=\"wav\")\n",
    "                \n",
    "                    # Use the speech recognition package to transcribe the audio\n",
    "                    r = sr.Recognizer()\n",
    "                    with sr.AudioFile(wav_path) as source:\n",
    "                        audio = r.record(source)\n",
    "                    transcript = r.recognize_google(audio)\n",
    "                \n",
    "                    # Do something with the transcript\n",
    "                    print(transcript)\n",
    "                    print()\n",
    "                \n",
    "                    # Delete the temporary wav file\n",
    "                    os.remove(wav_path)\n",
    "                except CouldntDecodeError:\n",
    "                    print(f\"Could not decode {filename}\")\n",
    "                except UnknownValueError:\n",
    "                    print(f\"No speech detected in {filename}\")\n"
   ]
  },
  {
   "cell_type": "code",
   "execution_count": null,
   "metadata": {},
   "outputs": [],
   "source": []
  }
 ],
 "metadata": {
  "kernelspec": {
   "display_name": "Python 3 (ipykernel)",
   "language": "python",
   "name": "python3"
  },
  "language_info": {
   "codemirror_mode": {
    "name": "ipython",
    "version": 3
   },
   "file_extension": ".py",
   "mimetype": "text/x-python",
   "name": "python",
   "nbconvert_exporter": "python",
   "pygments_lexer": "ipython3",
   "version": "3.9.12"
  }
 },
 "nbformat": 4,
 "nbformat_minor": 2
}
