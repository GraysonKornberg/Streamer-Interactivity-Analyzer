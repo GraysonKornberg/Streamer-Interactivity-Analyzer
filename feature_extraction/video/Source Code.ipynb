{
 "cells": [
  {
   "cell_type": "code",
   "execution_count": 1,
   "id": "c833eac2",
   "metadata": {},
   "outputs": [],
   "source": [
    "import pandas as pd\n",
    "import numpy as np\n",
    "import cv2\n",
    "import matplotlib.pyplot as plt\n",
    "import os\n",
    "import scipy.stats as st"
   ]
  },
  {
   "cell_type": "markdown",
   "id": "e16f1659",
   "metadata": {},
   "source": [
    "## Exploratory Data Analysis"
   ]
  },
  {
   "cell_type": "code",
   "execution_count": 2,
   "id": "13ab916a",
   "metadata": {},
   "outputs": [
    {
     "name": "stdout",
     "output_type": "stream",
     "text": [
      "frames per second = 60.0\n"
     ]
    }
   ],
   "source": [
    "video = cv2.VideoCapture('./data/Symfuhny/Symfuhny-0.mp4')\n",
    "fps = video.get(cv2.CAP_PROP_FPS)\n",
    "print('frames per second =', fps)"
   ]
  },
  {
   "cell_type": "code",
   "execution_count": 3,
   "id": "b21107c8",
   "metadata": {},
   "outputs": [],
   "source": [
    "# Takes in path to video file, outputs the movement score by frame\n",
    "def calculate_movement(path):\n",
    "    video = cv2.VideoCapture('./'+path)\n",
    "    count = 0\n",
    "    success = True\n",
    "    previous_frame = None\n",
    "    movement = []\n",
    "\n",
    "    while success:\n",
    "        success, image = video.read()\n",
    "        #print(\"New Frame: \", success)\n",
    "        count += 1\n",
    "\n",
    "        if (success):\n",
    "            img_brg = np.array(image)\n",
    "            img_rgb = cv2.cvtColor(src=img_brg, code=cv2.COLOR_BGR2RGB)\n",
    "\n",
    "            # Grayscale and blur the image\n",
    "            #if ((count % 2) == 0):\n",
    "            current_frame = cv2.cvtColor(img_rgb, cv2.COLOR_BGR2GRAY)\n",
    "            current_frame = cv2.GaussianBlur(src=current_frame, ksize=(5,5), sigmaX=0)\n",
    "\n",
    "            if (previous_frame is None):\n",
    "                # First frame; there is no previous one yet\n",
    "                previous_frame = current_frame\n",
    "                continue\n",
    "\n",
    "            # calculate difference and update previous frame\n",
    "            diff_frame = cv2.absdiff(src1=previous_frame, src2=current_frame)\n",
    "            diff = cv2.norm(diff_frame, normType=cv2.NORM_L2)\n",
    "            movement.append(diff)\n",
    "\n",
    "            # Move onto next frame\n",
    "            previous_frame = current_frame\n",
    "            \n",
    "    return movement"
   ]
  },
  {
   "cell_type": "code",
   "execution_count": null,
   "id": "fd22c2de",
   "metadata": {},
   "outputs": [],
   "source": [
    "streamer_videos = video_paths[0]\n",
    "movement = calculate_movement('./data/Symfuhny/Symfuhny-0.mp4')\n",
    "x = list(range(0, len(movement)))\n",
    "plt.plot(x, movement)\n",
    "plt.title('Movement Score')\n",
    "plt.xlabel('Frame')\n",
    "plt.ylabel('Distance')\n",
    "plt.show()\n",
    "len(movement)"
   ]
  },
  {
   "cell_type": "code",
   "execution_count": null,
   "id": "6213b74e",
   "metadata": {},
   "outputs": [],
   "source": [
    "movement = calculate_movement('./data/Symfuhny/Symfuhny-1.mp4')\n",
    "x = list(range(0, len(movement)))\n",
    "plt.plot(x, movement)\n",
    "plt.title('Movement Score')\n",
    "plt.xlabel('Frame')\n",
    "plt.ylabel('Distance')\n",
    "plt.show()\n",
    "len(movement)"
   ]
  },
  {
   "cell_type": "code",
   "execution_count": null,
   "id": "54f717a9",
   "metadata": {},
   "outputs": [],
   "source": [
    "movement = calculate_movement('./data/Symfuhny/Symfuhny-2.mp4')\n",
    "x = list(range(0, len(movement)))\n",
    "plt.plot(x, movement)\n",
    "plt.title('Movement Score')\n",
    "plt.xlabel('Frame')\n",
    "plt.ylabel('Distance')\n",
    "plt.show()\n",
    "len(movement)"
   ]
  },
  {
   "cell_type": "markdown",
   "id": "e52c7901",
   "metadata": {},
   "source": [
    "## Feature Extraction"
   ]
  },
  {
   "cell_type": "code",
   "execution_count": 4,
   "id": "99b6759f",
   "metadata": {},
   "outputs": [],
   "source": [
    "# Get relative paths to video files\n",
    "def get_streamer_paths(folder_path):\n",
    "    # Get file names\n",
    "    file_names = os.listdir(path=folder_path)\n",
    "    streamers_video_paths = []\n",
    "    \n",
    "    for name in file_names:\n",
    "        if (name == 'data.csv'):\n",
    "            continue\n",
    "        # Read csv file of each streamers\n",
    "        csv_path = folder_path+'/'+name+'/'+name+'.csv'\n",
    "        df = pd.read_csv(csv_path)\n",
    "        video_paths = df['video_path']\n",
    "        \n",
    "        # Append list of video paths by streamers\n",
    "        streamers_video_paths.append(folder_path+'/'+name+'/'+video_paths)\n",
    "    return streamers_video_paths\n",
    "\n",
    "video_paths = get_streamer_paths('./data')"
   ]
  },
  {
   "cell_type": "code",
   "execution_count": 5,
   "id": "6df80dc3",
   "metadata": {},
   "outputs": [],
   "source": [
    "# Returns list of movements for a given streamer\n",
    "def get_movement_list(streamer_videos):\n",
    "    movement_list = []\n",
    "    for i in range(0, len(streamer_videos)):\n",
    "        movement_list.append(calculate_movement(streamer_videos[i]))\n",
    "        \n",
    "    return movement_list\n",
    "\n",
    "# Flattens a list\n",
    "def flatten_list(list):\n",
    "    return [item for sublist in list for item in sublist]"
   ]
  },
  {
   "cell_type": "code",
   "execution_count": 6,
   "id": "c9566b16",
   "metadata": {},
   "outputs": [],
   "source": [
    "# Calculates number of spikes in a given streamer videos\n",
    "# Input movement list of streamer videos and z score\n",
    "# Outputs number of spikes of streamer videos\n",
    "def calculate_spike_num(movement_list, z_score):\n",
    "    # Flatten the movement score list\n",
    "    flat_list = flatten_list(movement_list)\n",
    "    \n",
    "    # Calculate the z score based on how many spikes we want\n",
    "    #p_value = abs((total_spike_num/len(flat_list))-1)\n",
    "    #z_score = st.norm.ppf(p_value)\n",
    "    \n",
    "    # Calculate threshold for the z score (spikes)\n",
    "    std = np.std(flat_list)\n",
    "    mean = np.mean(flat_list)\n",
    "    thres = z_score * std + mean\n",
    "    #print(\"Threshold is: \", thres)\n",
    "    \n",
    "    # Calculate number of spikes from each video\n",
    "    spike_num_list = []\n",
    "    for i in range(0, len(movement_list)):\n",
    "        total = 0\n",
    "        for movement_score in movement_list[i]:\n",
    "            if (movement_score >= thres):\n",
    "                total += 1\n",
    "        spike_num_list.append(total)\n",
    "    return spike_num_list\n",
    "\n",
    "# Calculates maximum movement of a video clip\n",
    "# Returns list of maximum movement scores\n",
    "def calculate_maximum_movement(movement_list):\n",
    "    max_movement = []\n",
    "    for video_movement in movement_list:\n",
    "        max_movement.append(max(video_movement))\n",
    "    return max_movement"
   ]
  },
  {
   "cell_type": "code",
   "execution_count": 7,
   "id": "a579fe0a",
   "metadata": {},
   "outputs": [],
   "source": [
    "# Takes in paths to a streamer's videos\n",
    "# Outputs a dataframe containing features for each videos\n",
    "def extract_features_streamer(streamer_videos):\n",
    "    # Get movement score list of videos\n",
    "    movement_list = get_movement_list(streamer_videos)\n",
    "    \n",
    "    # Get number of spikes from each videos\n",
    "    num_spike = calculate_spike_num(movement_list, 3)\n",
    "    \n",
    "    # Get maximum movement score from each videos\n",
    "    max_movement = calculate_maximum_movement(movement_list)\n",
    "\n",
    "    # Get file names\n",
    "    file_names = []\n",
    "    for path in streamer_videos:\n",
    "        file_names.append(path[path.rfind('/')+1:len(path)-4])\n",
    "    \n",
    "    df = pd.DataFrame()\n",
    "    df['File'] = file_names\n",
    "    df['Number of Movement Spikes'] = num_spike\n",
    "    df['Maximum Movement Score'] = max_movement\n",
    "    return df"
   ]
  },
  {
   "cell_type": "code",
   "execution_count": 8,
   "id": "23c8e5f2",
   "metadata": {},
   "outputs": [],
   "source": [
    "# Takes in path to the folder that contains the data\n",
    "# Outputs a dataframe with features from all video\n",
    "def feature_extraction(data_path, debug):\n",
    "    df = pd.DataFrame()\n",
    "    video_paths = get_streamer_paths(data_path)\n",
    "    for streamer_videos in video_paths:\n",
    "        if (df.empty):\n",
    "            if (debug):\n",
    "                print(\"Starting on Streamer \", streamer_videos[0])\n",
    "            df = extract_features_streamer(streamer_videos)\n",
    "            if (debug):\n",
    "                print(\"Streamer \", streamer_videos[0], ' done!')\n",
    "        else:\n",
    "            if (debug):\n",
    "                print(\"Starting on Streamer \", streamer_videos[0])\n",
    "            df_new = extract_features_streamer(streamer_videos)\n",
    "            df = pd.concat([df, df_new]).reset_index(drop=True)\n",
    "            if (debug):\n",
    "                print(\"Streamer \", streamer_videos[0], ' done!')\n",
    "    return df"
   ]
  },
  {
   "cell_type": "code",
   "execution_count": null,
   "id": "91ece165",
   "metadata": {},
   "outputs": [],
   "source": [
    "streamer_videos = video_paths[0]\n",
    "df = extract_features_streamer(streamer_videos)\n",
    "df"
   ]
  },
  {
   "cell_type": "code",
   "execution_count": null,
   "id": "5cefc3c4",
   "metadata": {},
   "outputs": [],
   "source": [
    "streamer_videos = video_paths[1]\n",
    "df_1 = extract_features_streamer(streamer_videos)\n",
    "df_1"
   ]
  },
  {
   "cell_type": "code",
   "execution_count": null,
   "id": "21dee027",
   "metadata": {},
   "outputs": [],
   "source": [
    "df_new = pd.concat([df, df_1]).reset_index(drop=True)\n",
    "df_new"
   ]
  },
  {
   "cell_type": "code",
   "execution_count": 9,
   "id": "9d66b995",
   "metadata": {
    "scrolled": true
   },
   "outputs": [
    {
     "name": "stdout",
     "output_type": "stream",
     "text": [
      "Starting on Streamer  ./data/buckefps/buckefps-0.mp4\n",
      "Streamer  ./data/buckefps/buckefps-0.mp4  done!\n",
      "Starting on Streamer  ./data/cyr/cyr-0.mp4\n",
      "Streamer  ./data/cyr/cyr-0.mp4  done!\n",
      "Starting on Streamer  ./data/Foolish_Gamers/Foolish_Gamers-0.mp4\n",
      "Streamer  ./data/Foolish_Gamers/Foolish_Gamers-0.mp4  done!\n",
      "Starting on Streamer  ./data/itsRyanHiga/itsRyanHiga-0.mp4\n",
      "Streamer  ./data/itsRyanHiga/itsRyanHiga-0.mp4  done!\n",
      "Starting on Streamer  ./data/Kastaclysm/Kastaclysm-0.mp4\n",
      "Streamer  ./data/Kastaclysm/Kastaclysm-0.mp4  done!\n",
      "Starting on Streamer  ./data/NICKMERCS/NICKMERCS-0.mp4\n",
      "Streamer  ./data/NICKMERCS/NICKMERCS-0.mp4  done!\n",
      "Starting on Streamer  ./data/Philza/Philza-0.mp4\n",
      "Streamer  ./data/Philza/Philza-0.mp4  done!\n",
      "Starting on Streamer  ./data/Ray/Ray-1.mp4\n",
      "Streamer  ./data/Ray/Ray-1.mp4  done!\n",
      "Starting on Streamer  ./data/shroud/shroud-0.mp4\n",
      "Streamer  ./data/shroud/shroud-0.mp4  done!\n",
      "Starting on Streamer  ./data/Symfuhny/Symfuhny-0.mp4\n",
      "Streamer  ./data/Symfuhny/Symfuhny-0.mp4  done!\n",
      "Starting on Streamer  ./data/Xaryu/Xaryu-0.mp4\n",
      "Streamer  ./data/Xaryu/Xaryu-0.mp4  done!\n"
     ]
    },
    {
     "data": {
      "text/html": [
       "<div>\n",
       "<style scoped>\n",
       "    .dataframe tbody tr th:only-of-type {\n",
       "        vertical-align: middle;\n",
       "    }\n",
       "\n",
       "    .dataframe tbody tr th {\n",
       "        vertical-align: top;\n",
       "    }\n",
       "\n",
       "    .dataframe thead th {\n",
       "        text-align: right;\n",
       "    }\n",
       "</style>\n",
       "<table border=\"1\" class=\"dataframe\">\n",
       "  <thead>\n",
       "    <tr style=\"text-align: right;\">\n",
       "      <th></th>\n",
       "      <th>File</th>\n",
       "      <th>Number of Movement Spikes</th>\n",
       "      <th>Maximum Movement Score</th>\n",
       "    </tr>\n",
       "  </thead>\n",
       "  <tbody>\n",
       "    <tr>\n",
       "      <th>0</th>\n",
       "      <td>buckefps-0</td>\n",
       "      <td>6</td>\n",
       "      <td>11052.390511</td>\n",
       "    </tr>\n",
       "    <tr>\n",
       "      <th>1</th>\n",
       "      <td>buckefps-1</td>\n",
       "      <td>2</td>\n",
       "      <td>6226.356880</td>\n",
       "    </tr>\n",
       "    <tr>\n",
       "      <th>2</th>\n",
       "      <td>buckefps-2</td>\n",
       "      <td>1</td>\n",
       "      <td>5706.733479</td>\n",
       "    </tr>\n",
       "    <tr>\n",
       "      <th>3</th>\n",
       "      <td>buckefps-3</td>\n",
       "      <td>14</td>\n",
       "      <td>7739.309853</td>\n",
       "    </tr>\n",
       "    <tr>\n",
       "      <th>4</th>\n",
       "      <td>buckefps-4</td>\n",
       "      <td>37</td>\n",
       "      <td>12527.618409</td>\n",
       "    </tr>\n",
       "    <tr>\n",
       "      <th>...</th>\n",
       "      <td>...</td>\n",
       "      <td>...</td>\n",
       "      <td>...</td>\n",
       "    </tr>\n",
       "    <tr>\n",
       "      <th>651</th>\n",
       "      <td>Xaryu-55</td>\n",
       "      <td>0</td>\n",
       "      <td>1411.815498</td>\n",
       "    </tr>\n",
       "    <tr>\n",
       "      <th>652</th>\n",
       "      <td>Xaryu-56</td>\n",
       "      <td>143</td>\n",
       "      <td>6323.025383</td>\n",
       "    </tr>\n",
       "    <tr>\n",
       "      <th>653</th>\n",
       "      <td>Xaryu-57</td>\n",
       "      <td>1</td>\n",
       "      <td>4228.973753</td>\n",
       "    </tr>\n",
       "    <tr>\n",
       "      <th>654</th>\n",
       "      <td>Xaryu-58</td>\n",
       "      <td>5</td>\n",
       "      <td>3574.774398</td>\n",
       "    </tr>\n",
       "    <tr>\n",
       "      <th>655</th>\n",
       "      <td>Xaryu-59</td>\n",
       "      <td>13</td>\n",
       "      <td>10375.951715</td>\n",
       "    </tr>\n",
       "  </tbody>\n",
       "</table>\n",
       "<p>656 rows × 3 columns</p>\n",
       "</div>"
      ],
      "text/plain": [
       "           File  Number of Movement Spikes  Maximum Movement Score\n",
       "0    buckefps-0                          6            11052.390511\n",
       "1    buckefps-1                          2             6226.356880\n",
       "2    buckefps-2                          1             5706.733479\n",
       "3    buckefps-3                         14             7739.309853\n",
       "4    buckefps-4                         37            12527.618409\n",
       "..          ...                        ...                     ...\n",
       "651    Xaryu-55                          0             1411.815498\n",
       "652    Xaryu-56                        143             6323.025383\n",
       "653    Xaryu-57                          1             4228.973753\n",
       "654    Xaryu-58                          5             3574.774398\n",
       "655    Xaryu-59                         13            10375.951715\n",
       "\n",
       "[656 rows x 3 columns]"
      ]
     },
     "execution_count": 9,
     "metadata": {},
     "output_type": "execute_result"
    }
   ],
   "source": [
    "df = feature_extraction('./data', True)\n",
    "df"
   ]
  },
  {
   "cell_type": "code",
   "execution_count": 10,
   "id": "f9025231",
   "metadata": {},
   "outputs": [],
   "source": [
    "df.to_pickle('./video_feature.pkl')"
   ]
  }
 ],
 "metadata": {
  "kernelspec": {
   "display_name": "Python 3 (ipykernel)",
   "language": "python",
   "name": "python3"
  },
  "language_info": {
   "codemirror_mode": {
    "name": "ipython",
    "version": 3
   },
   "file_extension": ".py",
   "mimetype": "text/x-python",
   "name": "python",
   "nbconvert_exporter": "python",
   "pygments_lexer": "ipython3",
   "version": "3.9.16"
  }
 },
 "nbformat": 4,
 "nbformat_minor": 5
}
