{
 "cells": [
  {
   "cell_type": "code",
   "execution_count": 89,
   "metadata": {},
   "outputs": [
    {
     "name": "stderr",
     "output_type": "stream",
     "text": [
      "[nltk_data] Downloading package stopwords to\n",
      "[nltk_data]     C:\\Users\\trick\\AppData\\Roaming\\nltk_data...\n",
      "[nltk_data]   Package stopwords is already up-to-date!\n"
     ]
    }
   ],
   "source": [
    "import os\n",
    "from sklearn.feature_extraction.text import TfidfVectorizer\n",
    "import pandas as pd\n",
    "from nltk.stem.snowball import SnowballStemmer\n",
    "from nltk.corpus import stopwords\n",
    "import nltk\n",
    "nltk.download('stopwords')\n",
    "import re\n",
    "\n",
    "# Set the directory path for the cloned repository\n",
    "directory = 'C:/Users/trick/Desktop/school and fun work/MML-Final-Project/transcripts'\n",
    "\n",
    "# Define the list of streamers to include in the analysis\n",
    "streamers = ['Xaryu', 'cyr', 'shroud', 'NICKMERCS', 'Kastaclysm', 'Symfuhny', 'Foolish_Gamers', 'Philza', 'itsRyanHiga', 'buckefps', 'Ray']\n",
    "\n",
    "transcripts = []\n",
    "for streamer in streamers:\n",
    "    # Iterate over each transcript file for the current streamer label\n",
    "    label_dir = os.path.join(directory, streamer)\n",
    "    for file in os.listdir(label_dir):\n",
    "        if file.endswith('.txt'):\n",
    "            file_path = os.path.join(label_dir, file)\n",
    "            with open(file_path, 'r') as f:\n",
    "                transcript_text = f.read()\n",
    "                # Add the transcript text and label to the list\n",
    "                transcripts.append({'text': transcript_text, 'path': file})\n",
    "                \n",
    "df = pd.DataFrame(transcripts)"
   ]
  },
  {
   "cell_type": "code",
   "execution_count": 90,
   "metadata": {},
   "outputs": [],
   "source": [
    "# Converting texts to lowercase\n",
    "df['text'] = df['text'].apply(lambda x: x.lower())\n",
    "\n",
    "# remove contractions\n",
    "def decontracted(text):\n",
    "    text = re.sub(r\"won\\'t\", \"will not\", text)\n",
    "    text = re.sub(r\"can\\'t\", \"can not\", text)\n",
    "    text = re.sub(r\"n\\'t\", \" not\", text)\n",
    "    text = re.sub(r\"\\'re\", \" are\", text)\n",
    "    text = re.sub(r\"\\'s\", \" is\", text)\n",
    "    text = re.sub(r\"\\'d\", \" would\", text)\n",
    "    text = re.sub(r\"\\'ll\", \" will\", text)\n",
    "    text = re.sub(r\"\\'t\", \" not\", text)\n",
    "    text = re.sub(r\"\\'ve\", \" have\", text)\n",
    "    text = re.sub(r\"\\'m\", \" am\", text)\n",
    "    return text\n",
    "df['text'] = df['text'].apply(decontracted)\n",
    "\n",
    "# remove numbers and special characters\n",
    "df['text'] = df['text'].replace(to_replace = '[^a-zA-Z\\s]', value = '', regex = True)\n",
    "\n",
    "# remove multiple spaces\n",
    "df['text'] = df['text'].replace(to_replace = r\" +\", value = ' ', regex=True)\n",
    "\n",
    "# remove leading whitespace\n",
    "df['text'] = df['text'].apply(lambda x: x.strip())\n",
    "\n",
    "# remove stop words\n",
    "stop_words = set(stopwords.words('english'))\n",
    "def remove_stopwords(text):\n",
    "    sentence = []\n",
    "    for word in text.split():\n",
    "        if word not in stop_words:\n",
    "            sentence.append(word)\n",
    "    return ' '.join(sentence)\n",
    "df['text'] = df['text'].apply(remove_stopwords)\n",
    "\n",
    "# stemming. I use a map to keep track of common stems because it is faster to look up words in the map versus calling stem on repeated words\n",
    "stemmer = SnowballStemmer('english')\n",
    "common_stems = {}\n",
    "def stemming(text):\n",
    "    sentence = []\n",
    "    for word in text.split():\n",
    "        if word in common_stems:\n",
    "            sentence.append(common_stems[word])\n",
    "        else:\n",
    "            stemmed_word = stemmer.stem(word)\n",
    "            sentence.append(stemmed_word)\n",
    "            common_stems[word] = stemmed_word\n",
    "    return ' '.join(sentence)\n",
    "df['text'] = df['text'].apply(stemming)\n",
    "\n",
    "\n",
    "del common_stems\n",
    "dataset = df['text'].values"
   ]
  },
  {
   "cell_type": "code",
   "execution_count": 99,
   "metadata": {},
   "outputs": [],
   "source": [
    "word_counts = {}\n",
    "for data in dataset:\n",
    "    words = data.split()\n",
    "    for word in words:\n",
    "        if word in word_counts.keys():\n",
    "            word_counts[word] += 1\n",
    "        else:\n",
    "            word_counts[word] = 1\n",
    "most_common_words = sorted(word_counts, key=word_counts.get, reverse=True)[0:300]\n",
    "\n",
    "# Remove words that aren't in the top 300 most common words from 'dataset'\n",
    "for i,data in enumerate(dataset):\n",
    "    words = data.split()\n",
    "    temp = []\n",
    "    for word in words:\n",
    "        if word in most_common_words:\n",
    "            temp.append(word)\n",
    "    dataset[i] = ' '.join(temp)\n"
   ]
  },
  {
   "cell_type": "code",
   "execution_count": 101,
   "metadata": {},
   "outputs": [],
   "source": [
    "# Create a TfidfVectorizer object\n",
    "vectorizer = TfidfVectorizer()"
   ]
  },
  {
   "cell_type": "code",
   "execution_count": 106,
   "metadata": {},
   "outputs": [],
   "source": [
    "# Create tf-idf vector for df['text']\n",
    "tfidf = vectorizer.fit_transform(dataset)"
   ]
  },
  {
   "cell_type": "code",
   "execution_count": 109,
   "metadata": {},
   "outputs": [],
   "source": [
    "df['feature'] = list(tfidf.toarray())"
   ]
  },
  {
   "cell_type": "code",
   "execution_count": 114,
   "metadata": {},
   "outputs": [],
   "source": [
    "df.to_pickle('transcript_features.pkl')"
   ]
  }
 ],
 "metadata": {
  "kernelspec": {
   "display_name": ".venv",
   "language": "python",
   "name": "python3"
  },
  "language_info": {
   "codemirror_mode": {
    "name": "ipython",
    "version": 3
   },
   "file_extension": ".py",
   "mimetype": "text/x-python",
   "name": "python",
   "nbconvert_exporter": "python",
   "pygments_lexer": "ipython3",
   "version": "3.10.11"
  },
  "orig_nbformat": 4
 },
 "nbformat": 4,
 "nbformat_minor": 2
}
